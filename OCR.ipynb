{
 "cells": [
  {
   "cell_type": "code",
   "execution_count": 11,
   "metadata": {},
   "outputs": [
    {
     "name": "stdout",
     "output_type": "stream",
     "text": [
      "presenting with text\n",
      "\n",
      "www.tudorgirba.com\n",
      "----------\n",
      "lam curious about\n",
      "area-filling text\n",
      "rendering options\n",
      "----------\n",
      "FACE ME | FACE YOU\n",
      "----------\n",
      "It was the best of\n",
      "times, it was the worst\n",
      "of times, it was the age\n",
      "of wisdom, it was the\n",
      "age of foolishness...\n",
      "----------\n",
      "THIS TEXT CLIPS THE\n",
      "BACKGROUND IMAGE\n",
      "\n",
      "THIS TEXT CLIPS THE\n",
      "BACKGROUND IMAGE\n",
      "----------\n",
      "Mild Splendour of the various-vested Night!\n",
      "Mother of wildly-working visions! hail!\n",
      "I watch thy gliding, while with watery light\n",
      "Thy weak eye glimmers through a fleecy veil;\n",
      "And when thou lovest thy pale orb to shroud\n",
      "Behind the gather’d blackness lost on high;\n",
      "And when thou dartest from the wind-rent cloud\n",
      "Thy placid lightning o’er the awaken’d sky.\n",
      "----------\n"
     ]
    }
   ],
   "source": [
    "# import the following libraries \n",
    "# will convert the image to text string \n",
    "import cv2\n",
    "import pytesseract       \n",
    "import matplotlib.pyplot as plt\n",
    "# adds image processing capabilities \n",
    "from PIL import Image            \n",
    "import os\n",
    "# opening an image from the source path \n",
    "#img = Image.open('download.png')   \n",
    "paths=os.path.join('OCR/')\n",
    "p=os.listdir(paths)\n",
    "# Plot original image\n",
    "strng=\"\"\n",
    "for fn in p:\n",
    "    image = cv2.imread(\"OCR/\"+fn)\n",
    "    b,g,r = cv2.split(image)\n",
    "    rgb_img = cv2.merge([r,g,b])\n",
    "#    plt.imshow(rgb_img)\n",
    "#    plt.imshow(rgb_img)\n",
    "    pytesseract.pytesseract.tesseract_cmd ='C:/Program Files/Tesseract-OCR/tesseract.exe'   \n",
    "    # converts the image to result and saves it into result variable \n",
    "    result = pytesseract.image_to_string(rgb_img)    \n",
    "    print(result)\n",
    "    print(\"-\"*10)\n",
    "    strng+=result\n",
    "    with open('hihello.txt',mode ='w') as file:      \n",
    "        file.write(result)\n",
    "# describes image format in the output \n",
    "#plt.imshow(rgb_img)\n",
    "\n",
    "#pytesseract.pytesseract.tesseract_cmd ='C:/Program Files/Tesseract-OCR/tesseract.exe'   \n",
    "# converts the image to result and saves it into result variable \n",
    "#result = pytesseract.image_to_string(rgb_img)    \n",
    "#print(result)\n",
    "# write text in a text file and save it to source path    \n",
    "#with open('abc.txt',mode ='w') as file:      \n",
    "      \n",
    "#                 file.write(result) \n",
    "#                 print(result)"
   ]
  },
  {
   "cell_type": "code",
   "execution_count": 8,
   "metadata": {},
   "outputs": [
    {
     "data": {
      "text/plain": [
       "'presenting with text\\n\\nwww.tudorgirba.comlam curious about\\narea-filling text\\nrendering optionsFACE ME | FACE YOUIt was the best of\\ntimes, it was the worst\\nof times, it was the age\\nof wisdom, it was the\\nage of foolishness...THIS TEXT CLIPS THE\\nBACKGROUND IMAGE\\n\\nTHIS TEXT CLIPS THE\\nBACKGROUND IMAGEMild Splendour of the various-vested Night!\\nMother of wildly-working visions! hail!\\nI watch thy gliding, while with watery light\\nThy weak eye glimmers through a fleecy veil;\\nAnd when thou lovest thy pale orb to shroud\\nBehind the gather’d blackness lost on high;\\nAnd when thou dartest from the wind-rent cloud\\nThy placid lightning o’er the awaken’d sky.'"
      ]
     },
     "execution_count": 8,
     "metadata": {},
     "output_type": "execute_result"
    }
   ],
   "source": [
    "strng"
   ]
  },
  {
   "cell_type": "code",
   "execution_count": 16,
   "metadata": {},
   "outputs": [
    {
     "name": "stdout",
     "output_type": "stream",
     "text": [
      "Mild Splendour of the various-vested Night!\n",
      "Mother of wildly-working visions! hail!\n",
      "I watch thy gliding, while with watery light\n",
      "Thy weak eye glimmers through a fleecy veil;\n",
      "And when thou lovest thy pale orb to shroud\n",
      "Behind the gather’d blackness lost on high;\n",
      "And when thou dartest from the wind-rent cloud\n",
      "Thy placid lightning o’er the awaken’d sky.\n"
     ]
    }
   ],
   "source": [
    "with open(\"hihello.txt\") as file:\n",
    "    print(file.read())"
   ]
  },
  {
   "cell_type": "code",
   "execution_count": null,
   "metadata": {},
   "outputs": [],
   "source": []
  },
  {
   "cell_type": "code",
   "execution_count": null,
   "metadata": {},
   "outputs": [],
   "source": []
  },
  {
   "cell_type": "code",
   "execution_count": null,
   "metadata": {},
   "outputs": [],
   "source": []
  },
  {
   "cell_type": "code",
   "execution_count": null,
   "metadata": {},
   "outputs": [],
   "source": []
  }
 ],
 "metadata": {
  "kernelspec": {
   "display_name": "Python 3",
   "language": "python",
   "name": "python3"
  },
  "language_info": {
   "codemirror_mode": {
    "name": "ipython",
    "version": 3
   },
   "file_extension": ".py",
   "mimetype": "text/x-python",
   "name": "python",
   "nbconvert_exporter": "python",
   "pygments_lexer": "ipython3",
   "version": "3.7.6"
  }
 },
 "nbformat": 4,
 "nbformat_minor": 2
}
